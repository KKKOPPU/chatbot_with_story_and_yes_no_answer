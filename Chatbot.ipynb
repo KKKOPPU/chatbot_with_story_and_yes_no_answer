{
 "cells": [
  {
   "cell_type": "code",
   "execution_count": 1,
   "metadata": {},
   "outputs": [],
   "source": [
    "import pickle\n",
    "import numpy as np\n",
    "import pandas as pd\n",
    "\n",
    "from keras.models import Sequential,Model\n",
    "from keras.layers.embeddings import Embedding\n",
    "from keras.layers import Input,Activation,Dense,Permute,Dropout,add,concatenate,dot,LSTM"
   ]
  },
  {
   "cell_type": "code",
   "execution_count": 2,
   "metadata": {},
   "outputs": [],
   "source": [
    "train_file_path = \"C:\\\\Drives\\\\Drive F\\\\Python\\\\Dataset\\\\UPDATED_NLP_COURSE\\\\UPDATED_NLP_COURSE\\\\06-Deep-Learning\\\\train_qa.txt\"\n",
    "\n",
    "with open(train_file_path,'rb') as f:\n",
    "    train_data = pickle.load(f)   "
   ]
  },
  {
   "cell_type": "code",
   "execution_count": 3,
   "metadata": {},
   "outputs": [],
   "source": [
    "test_file_path = \"C:\\\\Drives\\\\Drive F\\\\Python\\\\Dataset\\\\UPDATED_NLP_COURSE\\\\UPDATED_NLP_COURSE\\\\06-Deep-Learning\\\\test_qa.txt\"\n",
    "\n",
    "with open(test_file_path,'rb') as f:\n",
    "    test_data = pickle.load(f)   "
   ]
  },
  {
   "cell_type": "code",
   "execution_count": 4,
   "metadata": {},
   "outputs": [
    {
     "data": {
      "text/plain": [
       "10000"
      ]
     },
     "execution_count": 4,
     "metadata": {},
     "output_type": "execute_result"
    }
   ],
   "source": [
    "len(train_data)"
   ]
  },
  {
   "cell_type": "code",
   "execution_count": 5,
   "metadata": {},
   "outputs": [
    {
     "data": {
      "text/plain": [
       "1000"
      ]
     },
     "execution_count": 5,
     "metadata": {},
     "output_type": "execute_result"
    }
   ],
   "source": [
    "len(test_data)"
   ]
  },
  {
   "cell_type": "code",
   "execution_count": 6,
   "metadata": {},
   "outputs": [
    {
     "data": {
      "text/plain": [
       "(['Mary',\n",
       "  'moved',\n",
       "  'to',\n",
       "  'the',\n",
       "  'bathroom',\n",
       "  '.',\n",
       "  'Sandra',\n",
       "  'journeyed',\n",
       "  'to',\n",
       "  'the',\n",
       "  'bedroom',\n",
       "  '.'],\n",
       " ['Is', 'Sandra', 'in', 'the', 'hallway', '?'],\n",
       " 'no')"
      ]
     },
     "execution_count": 6,
     "metadata": {},
     "output_type": "execute_result"
    }
   ],
   "source": [
    "train_data[0]"
   ]
  },
  {
   "cell_type": "code",
   "execution_count": 7,
   "metadata": {},
   "outputs": [
    {
     "data": {
      "text/plain": [
       "'Mary moved to the bathroom . Sandra journeyed to the bedroom .'"
      ]
     },
     "execution_count": 7,
     "metadata": {},
     "output_type": "execute_result"
    }
   ],
   "source": [
    "' '.join(train_data[0][0])"
   ]
  },
  {
   "cell_type": "code",
   "execution_count": 8,
   "metadata": {},
   "outputs": [
    {
     "data": {
      "text/plain": [
       "{'.',\n",
       " 'Mary',\n",
       " 'Sandra',\n",
       " 'bathroom',\n",
       " 'bedroom',\n",
       " 'journeyed',\n",
       " 'moved',\n",
       " 'the',\n",
       " 'to'}"
      ]
     },
     "execution_count": 8,
     "metadata": {},
     "output_type": "execute_result"
    }
   ],
   "source": [
    "set(train_data[0][0])"
   ]
  },
  {
   "cell_type": "code",
   "execution_count": 9,
   "metadata": {},
   "outputs": [
    {
     "data": {
      "text/plain": [
       "'Is Sandra in the hallway ?'"
      ]
     },
     "execution_count": 9,
     "metadata": {},
     "output_type": "execute_result"
    }
   ],
   "source": [
    "' '.join(train_data[0][1])"
   ]
  },
  {
   "cell_type": "code",
   "execution_count": 10,
   "metadata": {},
   "outputs": [
    {
     "data": {
      "text/plain": [
       "'no'"
      ]
     },
     "execution_count": 10,
     "metadata": {},
     "output_type": "execute_result"
    }
   ],
   "source": [
    "train_data[0][2]"
   ]
  },
  {
   "cell_type": "code",
   "execution_count": 11,
   "metadata": {},
   "outputs": [],
   "source": [
    "complete_data = train_data + test_data"
   ]
  },
  {
   "cell_type": "code",
   "execution_count": 12,
   "metadata": {},
   "outputs": [],
   "source": [
    "vocab = set()\n",
    "\n",
    "for story, question, answer in complete_data:\n",
    "    vocab = vocab.union(set(story))\n",
    "    vocab = vocab.union(set(question))"
   ]
  },
  {
   "cell_type": "code",
   "execution_count": 13,
   "metadata": {},
   "outputs": [],
   "source": [
    "vocab.add('yes')\n",
    "vocab.add('no')"
   ]
  },
  {
   "cell_type": "code",
   "execution_count": 14,
   "metadata": {},
   "outputs": [
    {
     "data": {
      "text/plain": [
       "{'.',\n",
       " '?',\n",
       " 'Daniel',\n",
       " 'Is',\n",
       " 'John',\n",
       " 'Mary',\n",
       " 'Sandra',\n",
       " 'apple',\n",
       " 'back',\n",
       " 'bathroom',\n",
       " 'bedroom',\n",
       " 'discarded',\n",
       " 'down',\n",
       " 'dropped',\n",
       " 'football',\n",
       " 'garden',\n",
       " 'got',\n",
       " 'grabbed',\n",
       " 'hallway',\n",
       " 'in',\n",
       " 'journeyed',\n",
       " 'kitchen',\n",
       " 'left',\n",
       " 'milk',\n",
       " 'moved',\n",
       " 'no',\n",
       " 'office',\n",
       " 'picked',\n",
       " 'put',\n",
       " 'the',\n",
       " 'there',\n",
       " 'to',\n",
       " 'took',\n",
       " 'travelled',\n",
       " 'up',\n",
       " 'went',\n",
       " 'yes'}"
      ]
     },
     "execution_count": 14,
     "metadata": {},
     "output_type": "execute_result"
    }
   ],
   "source": [
    "vocab"
   ]
  },
  {
   "cell_type": "code",
   "execution_count": 15,
   "metadata": {},
   "outputs": [],
   "source": [
    "vocab_size = len(vocab) + 1 # For keras pad sequence placeholder"
   ]
  },
  {
   "cell_type": "code",
   "execution_count": 16,
   "metadata": {},
   "outputs": [
    {
     "data": {
      "text/plain": [
       "156"
      ]
     },
     "execution_count": 16,
     "metadata": {},
     "output_type": "execute_result"
    }
   ],
   "source": [
    "complete_story_len = [len(data[0]) for data in complete_data]\n",
    "max_story_len = max(complete_story_len)\n",
    "max_story_len"
   ]
  },
  {
   "cell_type": "code",
   "execution_count": 17,
   "metadata": {},
   "outputs": [
    {
     "data": {
      "text/plain": [
       "6"
      ]
     },
     "execution_count": 17,
     "metadata": {},
     "output_type": "execute_result"
    }
   ],
   "source": [
    "complete_question_len = [len(data[1]) for data in complete_data]\n",
    "max_question_len = max(complete_question_len)\n",
    "max_question_len"
   ]
  },
  {
   "cell_type": "code",
   "execution_count": 18,
   "metadata": {},
   "outputs": [],
   "source": [
    "from keras.preprocessing.sequence import pad_sequences\n",
    "from keras.preprocessing.text import Tokenizer"
   ]
  },
  {
   "cell_type": "code",
   "execution_count": 19,
   "metadata": {},
   "outputs": [
    {
     "data": {
      "text/plain": [
       "{'got': 1,\n",
       " 'bathroom': 2,\n",
       " 'bedroom': 3,\n",
       " 'went': 4,\n",
       " 'dropped': 5,\n",
       " 'the': 6,\n",
       " '?': 7,\n",
       " 'mary': 8,\n",
       " 'grabbed': 9,\n",
       " 'back': 10,\n",
       " 'yes': 11,\n",
       " 'apple': 12,\n",
       " 'is': 13,\n",
       " 'daniel': 14,\n",
       " 'there': 15,\n",
       " '.': 16,\n",
       " 'up': 17,\n",
       " 'hallway': 18,\n",
       " 'took': 19,\n",
       " 'milk': 20,\n",
       " 'journeyed': 21,\n",
       " 'football': 22,\n",
       " 'discarded': 23,\n",
       " 'travelled': 24,\n",
       " 'left': 25,\n",
       " 'sandra': 26,\n",
       " 'to': 27,\n",
       " 'kitchen': 28,\n",
       " 'no': 29,\n",
       " 'office': 30,\n",
       " 'picked': 31,\n",
       " 'put': 32,\n",
       " 'in': 33,\n",
       " 'moved': 34,\n",
       " 'down': 35,\n",
       " 'garden': 36,\n",
       " 'john': 37}"
      ]
     },
     "execution_count": 19,
     "metadata": {},
     "output_type": "execute_result"
    }
   ],
   "source": [
    "tokenizer = Tokenizer(filters=[])\n",
    "tokenizer.fit_on_texts(vocab)\n",
    "tokenizer.word_index"
   ]
  },
  {
   "cell_type": "code",
   "execution_count": 20,
   "metadata": {},
   "outputs": [],
   "source": [
    "train_story_text = []\n",
    "train_question_text = []\n",
    "train_answers = []\n",
    "\n",
    "for story,question,answer in train_data:\n",
    "    train_story_text.append(story)\n",
    "    train_question_text.append(question)"
   ]
  },
  {
   "cell_type": "code",
   "execution_count": 21,
   "metadata": {},
   "outputs": [],
   "source": [
    "train_story_seq = tokenizer.texts_to_sequences(train_story_text)"
   ]
  },
  {
   "cell_type": "code",
   "execution_count": 22,
   "metadata": {},
   "outputs": [],
   "source": [
    "train_story_seq = tokenizer.texts_to_sequences(train_story_text)"
   ]
  },
  {
   "cell_type": "code",
   "execution_count": 23,
   "metadata": {},
   "outputs": [
    {
     "data": {
      "text/plain": [
       "10000"
      ]
     },
     "execution_count": 23,
     "metadata": {},
     "output_type": "execute_result"
    }
   ],
   "source": [
    "len(train_story_text)"
   ]
  },
  {
   "cell_type": "code",
   "execution_count": 24,
   "metadata": {},
   "outputs": [
    {
     "data": {
      "text/plain": [
       "10000"
      ]
     },
     "execution_count": 24,
     "metadata": {},
     "output_type": "execute_result"
    }
   ],
   "source": [
    "len(train_story_seq)"
   ]
  },
  {
   "cell_type": "code",
   "execution_count": 25,
   "metadata": {},
   "outputs": [],
   "source": [
    "def vectorize_stories(data, word_index=tokenizer.word_index, max_story_len=max_story_len,max_question_len=max_question_len):\n",
    "    '''\n",
    "    INPUT: \n",
    "    \n",
    "    data: consisting of Stories,Queries,and Answers\n",
    "    word_index: word index dictionary from tokenizer\n",
    "    max_story_len: the length of the longest story (used for pad_sequences function)\n",
    "    max_question_len: length of the longest question (used for pad_sequences function)\n",
    "\n",
    "\n",
    "    OUTPUT:\n",
    "    \n",
    "    Vectorizes the stories,questions, and answers into padded sequences. We first loop for every story, query , and\n",
    "    answer in the data. Then we convert the raw words to an word index value. Then we append each set to their appropriate\n",
    "    output list. Then once we have converted the words to numbers, we pad the sequences so they are all of equal length.\n",
    "    \n",
    "    Returns this in the form of a tuple (X,Xq,Y) (padded based on max lengths)\n",
    "    '''\n",
    "    \n",
    "    \n",
    "    # X = STORIES\n",
    "    X = []\n",
    "    # Xq = QUERY/QUESTION\n",
    "    Xq = []\n",
    "    # Y = CORRECT ANSWER\n",
    "    Y = []\n",
    "    \n",
    "    \n",
    "    for story, query, answer in data:\n",
    "        \n",
    "        # Grab the word index for every word in story\n",
    "        x = [word_index[word.lower()] for word in story]\n",
    "        # Grab the word index for every word in query\n",
    "        xq = [word_index[word.lower()] for word in query]\n",
    "        \n",
    "        # Grab the Answers (either Yes/No so we don't need to use list comprehension here)\n",
    "        # Index 0 is reserved so we're going to use + 1\n",
    "        y = np.zeros(len(word_index) + 1)\n",
    "        \n",
    "        # Now that y is all zeros and we know its just Yes/No , we can use numpy logic to create this assignment\n",
    "        #\n",
    "        y[word_index[answer]] = 1\n",
    "        \n",
    "        # Append each set of story,query, and answer to their respective holding lists\n",
    "        X.append(x)\n",
    "        Xq.append(xq)\n",
    "        Y.append(y)\n",
    "        \n",
    "    # Finally, pad the sequences based on their max length so the RNN can be trained on uniformly long sequences.\n",
    "        \n",
    "    # RETURN TUPLE FOR UNPACKING\n",
    "    return (pad_sequences(X, maxlen=max_story_len),pad_sequences(Xq, maxlen=max_question_len), np.array(Y))"
   ]
  },
  {
   "cell_type": "code",
   "execution_count": 26,
   "metadata": {},
   "outputs": [],
   "source": [
    "inputs_train, queries_train, answers_train = vectorize_stories(train_data)"
   ]
  },
  {
   "cell_type": "code",
   "execution_count": 27,
   "metadata": {},
   "outputs": [],
   "source": [
    "inputs_test, queries_test, answers_test = vectorize_stories(test_data)"
   ]
  },
  {
   "cell_type": "code",
   "execution_count": 28,
   "metadata": {},
   "outputs": [
    {
     "data": {
      "text/plain": [
       "array([[ 0,  0,  0, ...,  6,  3, 16],\n",
       "       [ 0,  0,  0, ...,  6, 36, 16],\n",
       "       [ 0,  0,  0, ...,  6, 36, 16],\n",
       "       ...,\n",
       "       [ 0,  0,  0, ...,  6, 12, 16],\n",
       "       [ 0,  0,  0, ...,  6, 36, 16],\n",
       "       [ 0,  0,  0, ..., 12, 15, 16]])"
      ]
     },
     "execution_count": 28,
     "metadata": {},
     "output_type": "execute_result"
    }
   ],
   "source": [
    "inputs_test"
   ]
  },
  {
   "cell_type": "code",
   "execution_count": 29,
   "metadata": {},
   "outputs": [
    {
     "data": {
      "text/plain": [
       "array([[13, 37, 33,  6, 28,  7],\n",
       "       [13, 37, 33,  6, 28,  7],\n",
       "       [13, 37, 33,  6, 36,  7],\n",
       "       ...,\n",
       "       [13,  8, 33,  6,  3,  7],\n",
       "       [13, 26, 33,  6, 36,  7],\n",
       "       [13,  8, 33,  6, 36,  7]])"
      ]
     },
     "execution_count": 29,
     "metadata": {},
     "output_type": "execute_result"
    }
   ],
   "source": [
    "queries_test"
   ]
  },
  {
   "cell_type": "code",
   "execution_count": 30,
   "metadata": {},
   "outputs": [
    {
     "data": {
      "text/plain": [
       "array([[0., 0., 0., ..., 0., 0., 0.],\n",
       "       [0., 0., 0., ..., 0., 0., 0.],\n",
       "       [0., 0., 0., ..., 0., 0., 0.],\n",
       "       ...,\n",
       "       [0., 0., 0., ..., 0., 0., 0.],\n",
       "       [0., 0., 0., ..., 0., 0., 0.],\n",
       "       [0., 0., 0., ..., 0., 0., 0.]])"
      ]
     },
     "execution_count": 30,
     "metadata": {},
     "output_type": "execute_result"
    }
   ],
   "source": [
    "answers_test"
   ]
  },
  {
   "cell_type": "code",
   "execution_count": 31,
   "metadata": {},
   "outputs": [
    {
     "data": {
      "text/plain": [
       "array([  0.,   0.,   0.,   0.,   0.,   0.,   0.,   0.,   0.,   0.,   0.,\n",
       "       497.,   0.,   0.,   0.,   0.,   0.,   0.,   0.,   0.,   0.,   0.,\n",
       "         0.,   0.,   0.,   0.,   0.,   0.,   0., 503.,   0.,   0.,   0.,\n",
       "         0.,   0.,   0.,   0.,   0.])"
      ]
     },
     "execution_count": 31,
     "metadata": {},
     "output_type": "execute_result"
    }
   ],
   "source": [
    "sum(answers_test)"
   ]
  },
  {
   "cell_type": "code",
   "execution_count": 32,
   "metadata": {},
   "outputs": [
    {
     "data": {
      "text/plain": [
       "11"
      ]
     },
     "execution_count": 32,
     "metadata": {},
     "output_type": "execute_result"
    }
   ],
   "source": [
    "tokenizer.word_index['yes']"
   ]
  },
  {
   "cell_type": "code",
   "execution_count": 33,
   "metadata": {},
   "outputs": [
    {
     "data": {
      "text/plain": [
       "29"
      ]
     },
     "execution_count": 33,
     "metadata": {},
     "output_type": "execute_result"
    }
   ],
   "source": [
    "tokenizer.word_index['no']"
   ]
  },
  {
   "cell_type": "code",
   "execution_count": 34,
   "metadata": {},
   "outputs": [],
   "source": [
    "input_sequence = Input((max_story_len,))\n",
    "question = Input((max_question_len,))"
   ]
  },
  {
   "cell_type": "code",
   "execution_count": 35,
   "metadata": {},
   "outputs": [],
   "source": [
    "# Input gets embedded to a sequence of vectors\n",
    "input_encoder_m = Sequential()\n",
    "input_encoder_m.add(Embedding(input_dim=vocab_size,output_dim=64))\n",
    "input_encoder_m.add(Dropout(0.3))\n",
    "\n",
    "# This encoder will output:\n",
    "# (samples, story_maxlen, embedding_dim)"
   ]
  },
  {
   "cell_type": "code",
   "execution_count": 36,
   "metadata": {},
   "outputs": [],
   "source": [
    "# embed the input into a sequence of vectors of size query_maxlen\n",
    "input_encoder_c = Sequential()\n",
    "input_encoder_c.add(Embedding(input_dim=vocab_size,output_dim=max_question_len))\n",
    "input_encoder_c.add(Dropout(0.3))\n",
    "# output: (samples, story_maxlen, query_maxlen)"
   ]
  },
  {
   "cell_type": "code",
   "execution_count": 37,
   "metadata": {},
   "outputs": [],
   "source": [
    "# embed the question into a sequence of vectors\n",
    "question_encoder = Sequential()\n",
    "question_encoder.add(Embedding(input_dim=vocab_size,\n",
    "                               output_dim=64,\n",
    "                               input_length=max_question_len))\n",
    "question_encoder.add(Dropout(0.3))\n",
    "# output: (samples, query_maxlen, embedding_dim)"
   ]
  },
  {
   "cell_type": "code",
   "execution_count": 38,
   "metadata": {},
   "outputs": [],
   "source": [
    "# encode input sequence and questions (which are indices)\n",
    "# to sequences of dense vectors\n",
    "input_encoded_m = input_encoder_m(input_sequence)\n",
    "input_encoded_c = input_encoder_c(input_sequence)\n",
    "question_encoded = question_encoder(question)"
   ]
  },
  {
   "cell_type": "code",
   "execution_count": 39,
   "metadata": {},
   "outputs": [],
   "source": [
    "# shape: `(samples, story_maxlen, query_maxlen)`\n",
    "match = dot([input_encoded_m, question_encoded], axes=(2, 2))\n",
    "match = Activation('softmax')(match)"
   ]
  },
  {
   "cell_type": "code",
   "execution_count": 40,
   "metadata": {},
   "outputs": [],
   "source": [
    "# add the match matrix with the second input vector sequence\n",
    "response = add([match, input_encoded_c])  # (samples, story_maxlen, query_maxlen)\n",
    "response = Permute((2, 1))(response)  # (samples, query_maxlen, story_maxlen)"
   ]
  },
  {
   "cell_type": "code",
   "execution_count": 41,
   "metadata": {},
   "outputs": [],
   "source": [
    "# concatenate the match matrix with the question vector sequence\n",
    "answer = concatenate([response, question_encoded])"
   ]
  },
  {
   "cell_type": "code",
   "execution_count": 42,
   "metadata": {},
   "outputs": [
    {
     "data": {
      "text/plain": [
       "<KerasTensor: shape=(None, 6, 220) dtype=float32 (created by layer 'concatenate')>"
      ]
     },
     "execution_count": 42,
     "metadata": {},
     "output_type": "execute_result"
    }
   ],
   "source": [
    "answer"
   ]
  },
  {
   "cell_type": "code",
   "execution_count": 43,
   "metadata": {},
   "outputs": [],
   "source": [
    "# Reduce with RNN (LSTM)\n",
    "answer = LSTM(32)(answer)  # (samples, 32)"
   ]
  },
  {
   "cell_type": "code",
   "execution_count": 44,
   "metadata": {},
   "outputs": [],
   "source": [
    "# Regularization with Dropout\n",
    "answer = Dropout(0.5)(answer)\n",
    "answer = Dense(vocab_size)(answer)  # (samples, vocab_size)"
   ]
  },
  {
   "cell_type": "code",
   "execution_count": 45,
   "metadata": {},
   "outputs": [],
   "source": [
    "# we output a probability distribution over the vocabulary\n",
    "answer = Activation('softmax')(answer)\n",
    "\n",
    "# build the final model\n",
    "model = Model([input_sequence, question], answer)\n",
    "model.compile(optimizer='rmsprop', loss='categorical_crossentropy',\n",
    "              metrics=['accuracy'])"
   ]
  },
  {
   "cell_type": "code",
   "execution_count": 46,
   "metadata": {},
   "outputs": [
    {
     "name": "stdout",
     "output_type": "stream",
     "text": [
      "Model: \"model\"\n",
      "__________________________________________________________________________________________________\n",
      "Layer (type)                    Output Shape         Param #     Connected to                     \n",
      "==================================================================================================\n",
      "input_1 (InputLayer)            [(None, 156)]        0                                            \n",
      "__________________________________________________________________________________________________\n",
      "input_2 (InputLayer)            [(None, 6)]          0                                            \n",
      "__________________________________________________________________________________________________\n",
      "sequential (Sequential)         (None, None, 64)     2432        input_1[0][0]                    \n",
      "__________________________________________________________________________________________________\n",
      "sequential_2 (Sequential)       (None, 6, 64)        2432        input_2[0][0]                    \n",
      "__________________________________________________________________________________________________\n",
      "dot (Dot)                       (None, 156, 6)       0           sequential[0][0]                 \n",
      "                                                                 sequential_2[0][0]               \n",
      "__________________________________________________________________________________________________\n",
      "activation (Activation)         (None, 156, 6)       0           dot[0][0]                        \n",
      "__________________________________________________________________________________________________\n",
      "sequential_1 (Sequential)       (None, None, 6)      228         input_1[0][0]                    \n",
      "__________________________________________________________________________________________________\n",
      "add (Add)                       (None, 156, 6)       0           activation[0][0]                 \n",
      "                                                                 sequential_1[0][0]               \n",
      "__________________________________________________________________________________________________\n",
      "permute (Permute)               (None, 6, 156)       0           add[0][0]                        \n",
      "__________________________________________________________________________________________________\n",
      "concatenate (Concatenate)       (None, 6, 220)       0           permute[0][0]                    \n",
      "                                                                 sequential_2[0][0]               \n",
      "__________________________________________________________________________________________________\n",
      "lstm (LSTM)                     (None, 32)           32384       concatenate[0][0]                \n",
      "__________________________________________________________________________________________________\n",
      "dropout_3 (Dropout)             (None, 32)           0           lstm[0][0]                       \n",
      "__________________________________________________________________________________________________\n",
      "dense (Dense)                   (None, 38)           1254        dropout_3[0][0]                  \n",
      "__________________________________________________________________________________________________\n",
      "activation_1 (Activation)       (None, 38)           0           dense[0][0]                      \n",
      "==================================================================================================\n",
      "Total params: 38,730\n",
      "Trainable params: 38,730\n",
      "Non-trainable params: 0\n",
      "__________________________________________________________________________________________________\n"
     ]
    }
   ],
   "source": [
    "model.summary()"
   ]
  },
  {
   "cell_type": "code",
   "execution_count": 47,
   "metadata": {},
   "outputs": [
    {
     "name": "stdout",
     "output_type": "stream",
     "text": [
      "Epoch 1/100\n",
      "313/313 [==============================] - 58s 27ms/step - loss: 1.1392 - accuracy: 0.4912 - val_loss: 0.6948 - val_accuracy: 0.4970\n",
      "Epoch 2/100\n",
      "313/313 [==============================] - 7s 21ms/step - loss: 0.7033 - accuracy: 0.4976 - val_loss: 0.6957 - val_accuracy: 0.5030\n",
      "Epoch 3/100\n",
      "313/313 [==============================] - 7s 22ms/step - loss: 0.6963 - accuracy: 0.5054 - val_loss: 0.6935 - val_accuracy: 0.5030\n",
      "Epoch 4/100\n",
      "313/313 [==============================] - 7s 24ms/step - loss: 0.6948 - accuracy: 0.4991 - val_loss: 0.6942 - val_accuracy: 0.5030\n",
      "Epoch 5/100\n",
      "313/313 [==============================] - 7s 22ms/step - loss: 0.6951 - accuracy: 0.4941 - val_loss: 0.6938 - val_accuracy: 0.5030\n",
      "Epoch 6/100\n",
      "313/313 [==============================] - 7s 22ms/step - loss: 0.6953 - accuracy: 0.4810 - val_loss: 0.6934 - val_accuracy: 0.4970\n",
      "Epoch 7/100\n",
      "313/313 [==============================] - 7s 21ms/step - loss: 0.6946 - accuracy: 0.5000 - val_loss: 0.6972 - val_accuracy: 0.4970\n",
      "Epoch 8/100\n",
      "313/313 [==============================] - 7s 22ms/step - loss: 0.6940 - accuracy: 0.5057 - val_loss: 0.6948 - val_accuracy: 0.4970\n",
      "Epoch 9/100\n",
      "313/313 [==============================] - 8s 25ms/step - loss: 0.6951 - accuracy: 0.4983 - val_loss: 0.6938 - val_accuracy: 0.4710\n",
      "Epoch 10/100\n",
      "313/313 [==============================] - 7s 22ms/step - loss: 0.6944 - accuracy: 0.5038 - val_loss: 0.6952 - val_accuracy: 0.5020\n",
      "Epoch 11/100\n",
      "313/313 [==============================] - 7s 22ms/step - loss: 0.6926 - accuracy: 0.5155 - val_loss: 0.6907 - val_accuracy: 0.5250\n",
      "Epoch 12/100\n",
      "313/313 [==============================] - 7s 22ms/step - loss: 0.6787 - accuracy: 0.5670 - val_loss: 0.5999 - val_accuracy: 0.6740\n",
      "Epoch 13/100\n",
      "313/313 [==============================] - 7s 22ms/step - loss: 0.5633 - accuracy: 0.7322 - val_loss: 0.4573 - val_accuracy: 0.8060\n",
      "Epoch 14/100\n",
      "313/313 [==============================] - 8s 25ms/step - loss: 0.4742 - accuracy: 0.7960 - val_loss: 0.4137 - val_accuracy: 0.8150\n",
      "Epoch 15/100\n",
      "313/313 [==============================] - 7s 21ms/step - loss: 0.4214 - accuracy: 0.8199 - val_loss: 0.4155 - val_accuracy: 0.8330\n",
      "Epoch 16/100\n",
      "313/313 [==============================] - 9s 29ms/step - loss: 0.3973 - accuracy: 0.8374 - val_loss: 0.3894 - val_accuracy: 0.8380\n",
      "Epoch 17/100\n",
      "313/313 [==============================] - 7s 23ms/step - loss: 0.3669 - accuracy: 0.8506 - val_loss: 0.3702 - val_accuracy: 0.8340\n",
      "Epoch 18/100\n",
      "313/313 [==============================] - 7s 23ms/step - loss: 0.3524 - accuracy: 0.8494 - val_loss: 0.3742 - val_accuracy: 0.8430\n",
      "Epoch 19/100\n",
      "313/313 [==============================] - 7s 22ms/step - loss: 0.3477 - accuracy: 0.8542 - val_loss: 0.3684 - val_accuracy: 0.8450\n",
      "Epoch 20/100\n",
      "313/313 [==============================] - 7s 22ms/step - loss: 0.3354 - accuracy: 0.8625 - val_loss: 0.3525 - val_accuracy: 0.8280\n",
      "Epoch 21/100\n",
      "313/313 [==============================] - 7s 21ms/step - loss: 0.3312 - accuracy: 0.8580 - val_loss: 0.3662 - val_accuracy: 0.8400\n",
      "Epoch 22/100\n",
      "313/313 [==============================] - 7s 22ms/step - loss: 0.3331 - accuracy: 0.8568 - val_loss: 0.3523 - val_accuracy: 0.8420\n",
      "Epoch 23/100\n",
      "313/313 [==============================] - 7s 23ms/step - loss: 0.3222 - accuracy: 0.8577 - val_loss: 0.3500 - val_accuracy: 0.8290\n",
      "Epoch 24/100\n",
      "313/313 [==============================] - 7s 23ms/step - loss: 0.3157 - accuracy: 0.8643 - val_loss: 0.3461 - val_accuracy: 0.8300\n",
      "Epoch 25/100\n",
      "313/313 [==============================] - 7s 24ms/step - loss: 0.3279 - accuracy: 0.8601 - val_loss: 0.3500 - val_accuracy: 0.8430\n",
      "Epoch 26/100\n",
      "313/313 [==============================] - 7s 23ms/step - loss: 0.3150 - accuracy: 0.8624 - val_loss: 0.3474 - val_accuracy: 0.8380\n",
      "Epoch 27/100\n",
      "313/313 [==============================] - 7s 23ms/step - loss: 0.3078 - accuracy: 0.8656 - val_loss: 0.3331 - val_accuracy: 0.8470\n",
      "Epoch 28/100\n",
      "313/313 [==============================] - 7s 23ms/step - loss: 0.3011 - accuracy: 0.8703 - val_loss: 0.3271 - val_accuracy: 0.8490\n",
      "Epoch 29/100\n",
      "313/313 [==============================] - 8s 26ms/step - loss: 0.3097 - accuracy: 0.8636 - val_loss: 0.3393 - val_accuracy: 0.8370\n",
      "Epoch 30/100\n",
      "313/313 [==============================] - 7s 24ms/step - loss: 0.3068 - accuracy: 0.8598 - val_loss: 0.3312 - val_accuracy: 0.8400\n",
      "Epoch 31/100\n",
      "313/313 [==============================] - 7s 22ms/step - loss: 0.3003 - accuracy: 0.8688 - val_loss: 0.3400 - val_accuracy: 0.8390\n",
      "Epoch 32/100\n",
      "313/313 [==============================] - 7s 22ms/step - loss: 0.3006 - accuracy: 0.8649 - val_loss: 0.3401 - val_accuracy: 0.84503 - ETA: 0s - loss: 0.3006 - ac\n",
      "Epoch 33/100\n",
      "313/313 [==============================] - 7s 22ms/step - loss: 0.3030 - accuracy: 0.8661 - val_loss: 0.3440 - val_accuracy: 0.8440\n",
      "Epoch 34/100\n",
      "313/313 [==============================] - 7s 22ms/step - loss: 0.2983 - accuracy: 0.8632 - val_loss: 0.3524 - val_accuracy: 0.8380\n",
      "Epoch 35/100\n",
      "313/313 [==============================] - 7s 24ms/step - loss: 0.2936 - accuracy: 0.8676 - val_loss: 0.3472 - val_accuracy: 0.8390\n",
      "Epoch 36/100\n",
      "313/313 [==============================] - 7s 21ms/step - loss: 0.2899 - accuracy: 0.8694 - val_loss: 0.3333 - val_accuracy: 0.8350\n",
      "Epoch 37/100\n",
      "313/313 [==============================] - 8s 25ms/step - loss: 0.2889 - accuracy: 0.8726 - val_loss: 0.3278 - val_accuracy: 0.8430\n",
      "Epoch 38/100\n",
      "313/313 [==============================] - 8s 24ms/step - loss: 0.2902 - accuracy: 0.8684 - val_loss: 0.3542 - val_accuracy: 0.8420\n",
      "Epoch 39/100\n",
      "313/313 [==============================] - 7s 22ms/step - loss: 0.2979 - accuracy: 0.8654 - val_loss: 0.3417 - val_accuracy: 0.8430\n",
      "Epoch 40/100\n",
      "313/313 [==============================] - 7s 21ms/step - loss: 0.2904 - accuracy: 0.8688 - val_loss: 0.3329 - val_accuracy: 0.8450\n",
      "Epoch 41/100\n",
      "313/313 [==============================] - 7s 21ms/step - loss: 0.2925 - accuracy: 0.8708 - val_loss: 0.3349 - val_accuracy: 0.8420\n",
      "Epoch 42/100\n",
      "313/313 [==============================] - 7s 23ms/step - loss: 0.2972 - accuracy: 0.8667 - val_loss: 0.3813 - val_accuracy: 0.8320\n",
      "Epoch 43/100\n",
      "313/313 [==============================] - 7s 23ms/step - loss: 0.2943 - accuracy: 0.8684 - val_loss: 0.3325 - val_accuracy: 0.8350\n",
      "Epoch 44/100\n",
      "313/313 [==============================] - 7s 22ms/step - loss: 0.2867 - accuracy: 0.8698 - val_loss: 0.3548 - val_accuracy: 0.8370\n",
      "Epoch 45/100\n",
      "313/313 [==============================] - 7s 22ms/step - loss: 0.2826 - accuracy: 0.8736 - val_loss: 0.3362 - val_accuracy: 0.8450\n",
      "Epoch 46/100\n",
      "313/313 [==============================] - 7s 22ms/step - loss: 0.2837 - accuracy: 0.8757 - val_loss: 0.3480 - val_accuracy: 0.8460\n",
      "Epoch 47/100\n",
      "313/313 [==============================] - 7s 22ms/step - loss: 0.2908 - accuracy: 0.8724 - val_loss: 0.3477 - val_accuracy: 0.8450\n",
      "Epoch 48/100\n",
      "313/313 [==============================] - 7s 23ms/step - loss: 0.2934 - accuracy: 0.8634 - val_loss: 0.3442 - val_accuracy: 0.8420\n",
      "Epoch 49/100\n",
      "313/313 [==============================] - 7s 21ms/step - loss: 0.2944 - accuracy: 0.8712 - val_loss: 0.3451 - val_accuracy: 0.8400\n",
      "Epoch 50/100\n",
      "313/313 [==============================] - 7s 22ms/step - loss: 0.2890 - accuracy: 0.8701 - val_loss: 0.3460 - val_accuracy: 0.8400s - loss: 0.2890 - ac\n",
      "Epoch 51/100\n",
      "313/313 [==============================] - 7s 22ms/step - loss: 0.2869 - accuracy: 0.8740 - val_loss: 0.3716 - val_accuracy: 0.8320\n",
      "Epoch 52/100\n",
      "313/313 [==============================] - 7s 22ms/step - loss: 0.2836 - accuracy: 0.8764 - val_loss: 0.3426 - val_accuracy: 0.8400\n",
      "Epoch 53/100\n",
      "313/313 [==============================] - 7s 23ms/step - loss: 0.2814 - accuracy: 0.8777 - val_loss: 0.3382 - val_accuracy: 0.8400\n",
      "Epoch 54/100\n",
      "313/313 [==============================] - 7s 22ms/step - loss: 0.2782 - accuracy: 0.8763 - val_loss: 0.3720 - val_accuracy: 0.8420\n",
      "Epoch 55/100\n",
      "313/313 [==============================] - 7s 24ms/step - loss: 0.2865 - accuracy: 0.8710 - val_loss: 0.3763 - val_accuracy: 0.8370\n",
      "Epoch 56/100\n",
      "313/313 [==============================] - 7s 22ms/step - loss: 0.2910 - accuracy: 0.8708 - val_loss: 0.3730 - val_accuracy: 0.8430\n",
      "Epoch 57/100\n",
      "313/313 [==============================] - 7s 23ms/step - loss: 0.2810 - accuracy: 0.8713 - val_loss: 0.3493 - val_accuracy: 0.8420\n",
      "Epoch 58/100\n",
      "313/313 [==============================] - 8s 26ms/step - loss: 0.2849 - accuracy: 0.8682 - val_loss: 0.3492 - val_accuracy: 0.8450\n",
      "Epoch 59/100\n",
      "313/313 [==============================] - 8s 24ms/step - loss: 0.2716 - accuracy: 0.8783 - val_loss: 0.3498 - val_accuracy: 0.8450\n",
      "Epoch 60/100\n",
      "313/313 [==============================] - 8s 25ms/step - loss: 0.2846 - accuracy: 0.8710 - val_loss: 0.3668 - val_accuracy: 0.8440\n",
      "Epoch 61/100\n",
      "313/313 [==============================] - 8s 24ms/step - loss: 0.2803 - accuracy: 0.8790 - val_loss: 0.3582 - val_accuracy: 0.8460\n",
      "Epoch 62/100\n",
      "313/313 [==============================] - 7s 24ms/step - loss: 0.2847 - accuracy: 0.8669 - val_loss: 0.3573 - val_accuracy: 0.8390\n",
      "Epoch 63/100\n",
      "313/313 [==============================] - 7s 21ms/step - loss: 0.2680 - accuracy: 0.8763 - val_loss: 0.3615 - val_accuracy: 0.8430\n",
      "Epoch 64/100\n",
      "313/313 [==============================] - 7s 22ms/step - loss: 0.2756 - accuracy: 0.8761 - val_loss: 0.3502 - val_accuracy: 0.8430\n",
      "Epoch 65/100\n",
      "313/313 [==============================] - 7s 22ms/step - loss: 0.2703 - accuracy: 0.8799 - val_loss: 0.3511 - val_accuracy: 0.8440\n",
      "Epoch 66/100\n",
      "313/313 [==============================] - 7s 21ms/step - loss: 0.2678 - accuracy: 0.8811 - val_loss: 0.3584 - val_accuracy: 0.8360\n",
      "Epoch 67/100\n",
      "313/313 [==============================] - 7s 22ms/step - loss: 0.2744 - accuracy: 0.8770 - val_loss: 0.3801 - val_accuracy: 0.8450\n",
      "Epoch 68/100\n",
      "313/313 [==============================] - 7s 23ms/step - loss: 0.2764 - accuracy: 0.8738 - val_loss: 0.3751 - val_accuracy: 0.8370\n",
      "Epoch 69/100\n",
      "313/313 [==============================] - 7s 23ms/step - loss: 0.2809 - accuracy: 0.8742 - val_loss: 0.3718 - val_accuracy: 0.8390\n",
      "Epoch 70/100\n",
      "313/313 [==============================] - 7s 21ms/step - loss: 0.2807 - accuracy: 0.8763 - val_loss: 0.3440 - val_accuracy: 0.8500\n",
      "Epoch 71/100\n",
      "313/313 [==============================] - 7s 22ms/step - loss: 0.2801 - accuracy: 0.8697 - val_loss: 0.3670 - val_accuracy: 0.8450\n",
      "Epoch 72/100\n",
      "313/313 [==============================] - 7s 22ms/step - loss: 0.2716 - accuracy: 0.8779 - val_loss: 0.3708 - val_accuracy: 0.8500\n",
      "Epoch 73/100\n",
      "313/313 [==============================] - 7s 22ms/step - loss: 0.2638 - accuracy: 0.8825 - val_loss: 0.3694 - val_accuracy: 0.8430\n",
      "Epoch 74/100\n",
      "313/313 [==============================] - 7s 21ms/step - loss: 0.2727 - accuracy: 0.8812 - val_loss: 0.3676 - val_accuracy: 0.8410\n",
      "Epoch 75/100\n",
      "313/313 [==============================] - 7s 22ms/step - loss: 0.2737 - accuracy: 0.8756 - val_loss: 0.3840 - val_accuracy: 0.8430\n",
      "Epoch 76/100\n",
      "313/313 [==============================] - 7s 22ms/step - loss: 0.2703 - accuracy: 0.8788 - val_loss: 0.3759 - val_accuracy: 0.8420\n",
      "Epoch 77/100\n",
      "313/313 [==============================] - 7s 22ms/step - loss: 0.2669 - accuracy: 0.8793 - val_loss: 0.3952 - val_accuracy: 0.8420\n",
      "Epoch 78/100\n",
      "313/313 [==============================] - 7s 22ms/step - loss: 0.2727 - accuracy: 0.8766 - val_loss: 0.3800 - val_accuracy: 0.8440\n",
      "Epoch 79/100\n",
      "313/313 [==============================] - 7s 24ms/step - loss: 0.2657 - accuracy: 0.8797 - val_loss: 0.3760 - val_accuracy: 0.8400\n",
      "Epoch 80/100\n",
      "313/313 [==============================] - 7s 23ms/step - loss: 0.2666 - accuracy: 0.8777 - val_loss: 0.3987 - val_accuracy: 0.8450\n",
      "Epoch 81/100\n",
      "313/313 [==============================] - 7s 21ms/step - loss: 0.2496 - accuracy: 0.8880 - val_loss: 0.3737 - val_accuracy: 0.8460\n",
      "Epoch 82/100\n",
      "313/313 [==============================] - 7s 22ms/step - loss: 0.2555 - accuracy: 0.8827 - val_loss: 0.4277 - val_accuracy: 0.8350\n",
      "Epoch 83/100\n",
      "313/313 [==============================] - 7s 22ms/step - loss: 0.2620 - accuracy: 0.8837 - val_loss: 0.3816 - val_accuracy: 0.8460\n",
      "Epoch 84/100\n",
      "313/313 [==============================] - 7s 22ms/step - loss: 0.2568 - accuracy: 0.8853 - val_loss: 0.3860 - val_accuracy: 0.8430\n",
      "Epoch 85/100\n",
      "313/313 [==============================] - 7s 21ms/step - loss: 0.2538 - accuracy: 0.8857 - val_loss: 0.4036 - val_accuracy: 0.8380\n",
      "Epoch 86/100\n",
      "313/313 [==============================] - 7s 21ms/step - loss: 0.2454 - accuracy: 0.8907 - val_loss: 0.4061 - val_accuracy: 0.8470\n",
      "Epoch 87/100\n",
      "313/313 [==============================] - 7s 23ms/step - loss: 0.2509 - accuracy: 0.8877 - val_loss: 0.4366 - val_accuracy: 0.8390\n",
      "Epoch 88/100\n",
      "313/313 [==============================] - 7s 21ms/step - loss: 0.2464 - accuracy: 0.8887 - val_loss: 0.4392 - val_accuracy: 0.8400\n",
      "Epoch 89/100\n",
      "313/313 [==============================] - 7s 22ms/step - loss: 0.2448 - accuracy: 0.8928 - val_loss: 0.4246 - val_accuracy: 0.8400\n",
      "Epoch 90/100\n",
      "313/313 [==============================] - 7s 22ms/step - loss: 0.2494 - accuracy: 0.8879 - val_loss: 0.4003 - val_accuracy: 0.8390\n",
      "Epoch 91/100\n",
      "313/313 [==============================] - 7s 21ms/step - loss: 0.2492 - accuracy: 0.8905 - val_loss: 0.4207 - val_accuracy: 0.8320\n",
      "Epoch 92/100\n",
      "313/313 [==============================] - 7s 21ms/step - loss: 0.2467 - accuracy: 0.8884 - val_loss: 0.4370 - val_accuracy: 0.8350\n",
      "Epoch 93/100\n",
      "313/313 [==============================] - 6s 20ms/step - loss: 0.2393 - accuracy: 0.8930 - val_loss: 0.4516 - val_accuracy: 0.8370\n",
      "Epoch 94/100\n",
      "313/313 [==============================] - 7s 22ms/step - loss: 0.2457 - accuracy: 0.8890 - val_loss: 0.4610 - val_accuracy: 0.8360\n",
      "Epoch 95/100\n",
      "313/313 [==============================] - 7s 22ms/step - loss: 0.2347 - accuracy: 0.8963 - val_loss: 0.4164 - val_accuracy: 0.8350\n",
      "Epoch 96/100\n",
      "313/313 [==============================] - 7s 23ms/step - loss: 0.2313 - accuracy: 0.8961 - val_loss: 0.4553 - val_accuracy: 0.8340\n",
      "Epoch 97/100\n",
      "313/313 [==============================] - 7s 23ms/step - loss: 0.2339 - accuracy: 0.8959 - val_loss: 0.4286 - val_accuracy: 0.8450\n",
      "Epoch 98/100\n",
      "313/313 [==============================] - 7s 21ms/step - loss: 0.2291 - accuracy: 0.8969 - val_loss: 0.4690 - val_accuracy: 0.840090 - accuracy: \n",
      "Epoch 99/100\n",
      "313/313 [==============================] - 7s 21ms/step - loss: 0.2262 - accuracy: 0.9003 - val_loss: 0.4315 - val_accuracy: 0.8360\n",
      "Epoch 100/100\n",
      "313/313 [==============================] - 7s 21ms/step - loss: 0.2271 - accuracy: 0.9039 - val_loss: 0.4532 - val_accuracy: 0.8320\n"
     ]
    }
   ],
   "source": [
    "# train\n",
    "history = model.fit([inputs_train, queries_train], answers_train,batch_size=32,epochs=100,validation_data=([inputs_test, queries_test], answers_test))"
   ]
  },
  {
   "cell_type": "code",
   "execution_count": 48,
   "metadata": {},
   "outputs": [
    {
     "name": "stderr",
     "output_type": "stream",
     "text": [
      "C:\\Users\\koppu\\anaconda3\\lib\\site-packages\\keras\\utils\\generic_utils.py:494: CustomMaskWarning: Custom mask layers require a config and must override get_config. When loading, the custom mask layer must be passed to the custom_objects argument.\n",
      "  warnings.warn('Custom mask layers require a config and must override '\n"
     ]
    }
   ],
   "source": [
    "filename = 'chatbot_100_epochs.h5'\n",
    "model.save(filename)"
   ]
  },
  {
   "cell_type": "code",
   "execution_count": 49,
   "metadata": {},
   "outputs": [
    {
     "name": "stdout",
     "output_type": "stream",
     "text": [
      "dict_keys(['loss', 'accuracy', 'val_loss', 'val_accuracy'])\n"
     ]
    },
    {
     "data": {
      "image/png": "[encoded data removed]",
      "text/plain": [
       "<Figure size 432x288 with 1 Axes>"
      ]
     },
     "metadata": {
      "needs_background": "light"
     },
     "output_type": "display_data"
    }
   ],
   "source": [
    "import matplotlib.pyplot as plt\n",
    "print(history.history.keys())\n",
    "# summarize history for accuracy\n",
    "plt.plot(history.history['accuracy'])\n",
    "plt.plot(history.history['val_accuracy'])\n",
    "plt.title('model accuracy')\n",
    "plt.ylabel('accuracy')\n",
    "plt.xlabel('epoch')\n",
    "plt.legend(['train', 'test'], loc='upper left')\n",
    "plt.show()"
   ]
  },
  {
   "cell_type": "code",
   "execution_count": 67,
   "metadata": {},
   "outputs": [
    {
     "name": "stdout",
     "output_type": "stream",
     "text": [
      "dict_keys(['loss', 'accuracy', 'val_loss', 'val_accuracy'])\n"
     ]
    },
    {
     "data": {
      "image/png": "[encoded data removed]",
      "text/plain": [
       "<Figure size 432x288 with 1 Axes>"
      ]
     },
     "metadata": {
      "needs_background": "light"
     },
     "output_type": "display_data"
    }
   ],
   "source": [
    "import matplotlib.pyplot as plt\n",
    "print(history.history.keys())\n",
    "# summarize history for accuracy\n",
    "plt.plot(history.history['loss'])\n",
    "plt.plot(history.history['val_loss'])\n",
    "plt.title('model loss')\n",
    "plt.ylabel('loss')\n",
    "plt.xlabel('epoch')\n",
    "plt.legend(['train', 'test'], loc='upper left')\n",
    "plt.show()"
   ]
  },
  {
   "cell_type": "code",
   "execution_count": 50,
   "metadata": {},
   "outputs": [],
   "source": [
    "pred_results = model.predict(([inputs_test, queries_test]))"
   ]
  },
  {
   "cell_type": "code",
   "execution_count": 51,
   "metadata": {},
   "outputs": [
    {
     "data": {
      "text/plain": [
       "['Mary',\n",
       " 'got',\n",
       " 'the',\n",
       " 'milk',\n",
       " 'there',\n",
       " '.',\n",
       " 'John',\n",
       " 'moved',\n",
       " 'to',\n",
       " 'the',\n",
       " 'bedroom',\n",
       " '.']"
      ]
     },
     "execution_count": 51,
     "metadata": {},
     "output_type": "execute_result"
    }
   ],
   "source": [
    "test_data[0][0]"
   ]
  },
  {
   "cell_type": "code",
   "execution_count": 52,
   "metadata": {},
   "outputs": [
    {
     "name": "stdout",
     "output_type": "stream",
     "text": [
      "Mary got the milk there . John moved to the bedroom .\n"
     ]
    }
   ],
   "source": [
    "story =' '.join(word for word in test_data[0][0])\n",
    "print(story)"
   ]
  },
  {
   "cell_type": "code",
   "execution_count": 53,
   "metadata": {},
   "outputs": [
    {
     "name": "stdout",
     "output_type": "stream",
     "text": [
      "Is John in the kitchen ?\n"
     ]
    }
   ],
   "source": [
    "query = ' '.join(word for word in test_data[0][1])\n",
    "print(query)"
   ]
  },
  {
   "cell_type": "code",
   "execution_count": 66,
   "metadata": {},
   "outputs": [
    {
     "name": "stdout",
     "output_type": "stream",
     "text": [
      "True Test Answer from Data is : no\n"
     ]
    }
   ],
   "source": [
    "print(\"True Test Answer from Data is :\",test_data[0][2])"
   ]
  },
  {
   "cell_type": "code",
   "execution_count": 65,
   "metadata": {},
   "outputs": [
    {
     "name": "stdout",
     "output_type": "stream",
     "text": [
      "Predicted answer is :  no\n",
      "Probability of certainty : 99 %\n"
     ]
    }
   ],
   "source": [
    "#Generate prediction from model\n",
    "val_max = np.argmax(pred_results[0])\n",
    "\n",
    "for key, val in tokenizer.word_index.items():\n",
    "    if val == val_max:\n",
    "        k = key\n",
    "\n",
    "print(\"Predicted answer is : \", k)\n",
    "print(f\"Probability of certainty : {int(pred_results[0][val_max]*100)} %\")"
   ]
  },
  {
   "cell_type": "markdown",
   "metadata": {},
   "source": [
    "## Writing Your Own Stories and Questions\n",
    "\n",
    "Remember you can only use words from the existing vocab"
   ]
  },
  {
   "cell_type": "code",
   "execution_count": 68,
   "metadata": {},
   "outputs": [
    {
     "data": {
      "text/plain": [
       "{'.',\n",
       " '?',\n",
       " 'Daniel',\n",
       " 'Is',\n",
       " 'John',\n",
       " 'Mary',\n",
       " 'Sandra',\n",
       " 'apple',\n",
       " 'back',\n",
       " 'bathroom',\n",
       " 'bedroom',\n",
       " 'discarded',\n",
       " 'down',\n",
       " 'dropped',\n",
       " 'football',\n",
       " 'garden',\n",
       " 'got',\n",
       " 'grabbed',\n",
       " 'hallway',\n",
       " 'in',\n",
       " 'journeyed',\n",
       " 'kitchen',\n",
       " 'left',\n",
       " 'milk',\n",
       " 'moved',\n",
       " 'no',\n",
       " 'office',\n",
       " 'picked',\n",
       " 'put',\n",
       " 'the',\n",
       " 'there',\n",
       " 'to',\n",
       " 'took',\n",
       " 'travelled',\n",
       " 'up',\n",
       " 'went',\n",
       " 'yes'}"
      ]
     },
     "execution_count": 68,
     "metadata": {},
     "output_type": "execute_result"
    }
   ],
   "source": [
    "vocab"
   ]
  },
  {
   "cell_type": "code",
   "execution_count": 69,
   "metadata": {},
   "outputs": [
    {
     "data": {
      "text/plain": [
       "['John',\n",
       " 'left',\n",
       " 'the',\n",
       " 'kitchen',\n",
       " '.',\n",
       " 'Sandra',\n",
       " 'dropped',\n",
       " 'the',\n",
       " 'football',\n",
       " 'in',\n",
       " 'the',\n",
       " 'garden',\n",
       " '.']"
      ]
     },
     "execution_count": 69,
     "metadata": {},
     "output_type": "execute_result"
    }
   ],
   "source": [
    "# Note the whitespace of the periods\n",
    "my_story = \"John left the kitchen . Sandra dropped the football in the garden .\"\n",
    "my_story.split()"
   ]
  },
  {
   "cell_type": "code",
   "execution_count": 70,
   "metadata": {},
   "outputs": [],
   "source": [
    "my_question = \"Is the football in the garden ?\""
   ]
  },
  {
   "cell_type": "code",
   "execution_count": 71,
   "metadata": {},
   "outputs": [
    {
     "data": {
      "text/plain": [
       "['Is', 'the', 'football', 'in', 'the', 'garden', '?']"
      ]
     },
     "execution_count": 71,
     "metadata": {},
     "output_type": "execute_result"
    }
   ],
   "source": [
    "my_question.split()"
   ]
  },
  {
   "cell_type": "code",
   "execution_count": 72,
   "metadata": {},
   "outputs": [],
   "source": [
    "mydata = [(my_story.split(),my_question.split(),'yes')]"
   ]
  },
  {
   "cell_type": "code",
   "execution_count": 73,
   "metadata": {},
   "outputs": [],
   "source": [
    "my_story,my_ques,my_ans = vectorize_stories(mydata)"
   ]
  },
  {
   "cell_type": "code",
   "execution_count": 74,
   "metadata": {},
   "outputs": [],
   "source": [
    "pred_results = model.predict(([ my_story, my_ques]))"
   ]
  },
  {
   "cell_type": "code",
   "execution_count": 75,
   "metadata": {},
   "outputs": [
    {
     "name": "stdout",
     "output_type": "stream",
     "text": [
      "Predicted answer is :  yes\n",
      "Probability of certainty : 99 %\n"
     ]
    }
   ],
   "source": [
    "#Generate prediction from model\n",
    "val_max = np.argmax(pred_results[0])\n",
    "\n",
    "for key, val in tokenizer.word_index.items():\n",
    "    if val == val_max:\n",
    "        k = key\n",
    "\n",
    "print(\"Predicted answer is : \", k)\n",
    "print(f\"Probability of certainty : {int(pred_results[0][val_max]*100)} %\")"
   ]
  }
 ],
 "metadata": {
  "kernelspec": {
   "display_name": "Python 3",
   "language": "python",
   "name": "python3"
  },
  "language_info": {
   "codemirror_mode": {
    "name": "ipython",
    "version": 3
   },
   "file_extension": ".py",
   "mimetype": "text/x-python",
   "name": "python",
   "nbconvert_exporter": "python",
   "pygments_lexer": "ipython3",
   "version": "3.8.3"
  }
 },
 "nbformat": 4,
 "nbformat_minor": 4
}
